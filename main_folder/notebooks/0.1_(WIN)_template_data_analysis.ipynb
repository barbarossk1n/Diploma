{
 "cells": [
  {
   "cell_type": "markdown",
   "metadata": {},
   "source": [
    "### 1.1 Настройка библиотек"
   ]
  },
  {
   "cell_type": "markdown",
   "metadata": {},
   "source": [
    "#### 1.1.1 Библиотеки для работы с директориями"
   ]
  },
  {
   "cell_type": "code",
   "execution_count": 1,
   "metadata": {},
   "outputs": [],
   "source": [
    "import os\n",
    "import sys\n",
    "import csv"
   ]
  },
  {
   "cell_type": "markdown",
   "metadata": {},
   "source": [
    "#### 1.1.2 Библиотеки для работы с данными"
   ]
  },
  {
   "cell_type": "code",
   "execution_count": 2,
   "metadata": {},
   "outputs": [],
   "source": [
    "# Для обработки таблиц и работы с массивами\n",
    "import re\n",
    "import numpy as np\n",
    "import pandas as pd\n",
    "import openpyxl\n",
    "import json\n",
    "\n",
    "import warnings\n",
    "\n",
    "# Отключение предупреждений, возникающих при чтении данных\n",
    "warnings.filterwarnings('ignore', category=UserWarning, module='openpyxl.styles.stylesheet')"
   ]
  },
  {
   "cell_type": "markdown",
   "metadata": {},
   "source": [
    "#### 1.1.3 Прочие библиотеки"
   ]
  },
  {
   "cell_type": "code",
   "execution_count": null,
   "metadata": {},
   "outputs": [],
   "source": [
    "from datetime import datetime"
   ]
  },
  {
   "cell_type": "markdown",
   "metadata": {},
   "source": [
    "### 1.2 Настройка директорий"
   ]
  },
  {
   "cell_type": "code",
   "execution_count": null,
   "metadata": {},
   "outputs": [],
   "source": [
    "this_directory = os.getcwd()\n",
    "\n",
    "dipl_directory = this_directory.split('main_folder')[0]\n",
    "data_directory = dipl_directory + 'raw_data'\n",
    "\n",
    "# В WIN подключение к данным выглядит так:\n",
    "xlsx_directory = data_directory + '\\\\excel\\\\'\n",
    "dcsv_directory = data_directory + '\\\\csv\\\\'"
   ]
  }
 ],
 "metadata": {
  "kernelspec": {
   "display_name": "Python 3",
   "language": "python",
   "name": "python3"
  },
  "language_info": {
   "codemirror_mode": {
    "name": "ipython",
    "version": 3
   },
   "file_extension": ".py",
   "mimetype": "text/x-python",
   "name": "python",
   "nbconvert_exporter": "python",
   "pygments_lexer": "ipython3",
   "version": "3.12.3"
  }
 },
 "nbformat": 4,
 "nbformat_minor": 2
}
