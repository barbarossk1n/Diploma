{
 "cells": [
  {
   "cell_type": "code",
   "execution_count": 7,
   "id": "b87aa469",
   "metadata": {},
   "outputs": [],
   "source": [
    "import json\n",
    "import numpy as np\n",
    "import xgboost as xgb\n",
    "\n",
    "# Загрузка модели из JSON-файла\n",
    "with open('xgboost_model.json', 'r') as f:\n",
    "    model_data = json.load(f)\n",
    "\n"
   ]
  },
  {
   "cell_type": "code",
   "execution_count": 9,
   "id": "a886d53a",
   "metadata": {},
   "outputs": [
    {
     "name": "stdout",
     "output_type": "stream",
     "text": [
      "Предсказанная стоимость квадратного метра для каждого объекта:\n",
      "Объект 1: 474544.66 у.е.\n",
      "Объект 2: 531493.38 у.е.\n",
      "Объект 3: 517632.03 у.е.\n"
     ]
    }
   ],
   "source": [
    "# Создание модели XGBoost из загруженных данных\n",
    "model = xgb.Booster()\n",
    "model.load_model('xgboost_model.json')  # Альтернативно можно использовать xgb.Booster(model_file='xgboost_model.json')\n",
    "\n",
    "# Подготовка новых данных для предсказания\n",
    "# Пример: создание фиктивных данных с 5 признаками (замените на реальные данные)\n",
    "new_data = np.array([\n",
    "    [2020, 50, 3, 1, 500],  \n",
    "    [2015, 65, 2, 5, 1000],\n",
    "    [2010, 35, 1, 2, 300]\n",
    "])\n",
    "\n",
    "# Преобразование данных в формат DMatrix, который использует XGBoost\n",
    "dnew = xgb.DMatrix(new_data)\n",
    "\n",
    "# Выполнение предсказаний\n",
    "predictions = model.predict(dnew)\n",
    "\n",
    "# Вывод предсказаний (стоимость квадратного метра)\n",
    "print(\"Предсказанная стоимость квадратного метра для каждого объекта:\")\n",
    "for i, pred in enumerate(predictions):\n",
    "    print(f\"Объект {i+1}: {pred:.2f} у.е.\")"
   ]
  }
 ],
 "metadata": {
  "kernelspec": {
   "display_name": "base",
   "language": "python",
   "name": "python3"
  },
  "language_info": {
   "codemirror_mode": {
    "name": "ipython",
    "version": 3
   },
   "file_extension": ".py",
   "mimetype": "text/x-python",
   "name": "python",
   "nbconvert_exporter": "python",
   "pygments_lexer": "ipython3",
   "version": "3.12.4"
  }
 },
 "nbformat": 4,
 "nbformat_minor": 5
}
